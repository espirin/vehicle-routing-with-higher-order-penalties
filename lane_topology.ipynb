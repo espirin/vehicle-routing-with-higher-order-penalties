{
 "cells": [
  {
   "cell_type": "markdown",
   "source": [
    "# Vehicle routing with higher order penalties\n",
    "\n",
    "This notebook showcases the results of the eponymous bachelor thesis.\n",
    "## Contents\n",
    "* [Setup](#setup)\n",
    "* [Routing Problem](#routing_problem)\n",
    "* [Lane-Level Topology approach](#lane_level)\n",
    "* [X-Graph approach](#x_graph)\n",
    "* [Comparison](#x_graph)"
   ],
   "metadata": {
    "collapsed": false
   }
  },
  {
   "cell_type": "markdown",
   "source": [
    "## Setup <a id='setup'></a>"
   ],
   "metadata": {
    "collapsed": false
   }
  },
  {
   "cell_type": "code",
   "execution_count": null,
   "outputs": [],
   "source": [
    "import json\n",
    "import os\n",
    "from io import StringIO\n",
    "from typing import Optional, List\n",
    "\n",
    "import matplotlib.pyplot as plt\n",
    "import pandas as pd\n",
    "from dotenv import load_dotenv\n",
    "from geojson import FeatureCollection\n",
    "from mapboxgl.utils import create_color_stops\n",
    "from mapboxgl.viz import LinestringViz\n",
    "from ortools.constraint_solver.routing_enums_pb2 import LocalSearchMetaheuristic, FirstSolutionStrategy\n",
    "\n",
    "from src.batch_runner.batch_runner import batch_run\n",
    "from src.config.map import satellite_style\n",
    "from src.helpers.helpers import format_matrix\n",
    "from src.optimizer.ebg_optimizer import EBGOptimizer\n",
    "from src.optimizer.x_graph_optimizer import XGraphOptimizer\n",
    "from src.osrm.interface import OSRMInterface\n",
    "from src.routing_problem.connections.complete import XGraphNode, FirstXGraphNode, SelfXGraphNode, LastXGraphNode\n",
    "from src.routing_problem.connections.lanelet import LaneletConnection\n",
    "from src.routing_problem.connections.route import RouteConnection\n",
    "from src.routing_problem.creator.creator import create_routing_problem\n",
    "from src.routing_problem.lanelet import Lanelet, FirstLanelet, LastLanelet\n",
    "from src.routing_problem.maneuver.maneuver_type import ManeuverType\n",
    "from src.routing_problem.maneuver.modifier import ManeuverModifier\n",
    "from src.routing_problem.routing_problem import RoutingProblem"
   ],
   "metadata": {
    "collapsed": false,
    "pycharm": {
     "name": "#%%\n"
    }
   }
  },
  {
   "cell_type": "code",
   "execution_count": null,
   "outputs": [],
   "source": [
    "% load_ext autoreload\n",
    "% autoreload 2"
   ],
   "metadata": {
    "collapsed": false,
    "pycharm": {
     "name": "#%%\n"
    }
   }
  },
  {
   "cell_type": "markdown",
   "source": [
    "You need to create a [free Mapbox account](https://account.mapbox.com/auth/signup/) and add your access token to the .env file in the root of the repository."
   ],
   "metadata": {
    "collapsed": false
   }
  },
  {
   "cell_type": "code",
   "execution_count": null,
   "outputs": [],
   "source": [
    "load_dotenv()\n",
    "token = os.getenv('MAPBOX_ACCESS_TOKEN')"
   ],
   "metadata": {
    "collapsed": false,
    "pycharm": {
     "name": "#%%\n"
    }
   }
  },
  {
   "cell_type": "markdown",
   "source": [
    "Change the routing problem name here to load another routing problem."
   ],
   "metadata": {
    "collapsed": false
   }
  },
  {
   "cell_type": "code",
   "execution_count": null,
   "outputs": [],
   "source": [
    "rp_name = \"stuttgart_small\"\n",
    "rp_map_data = \"Stuttgart/stuttgart-regbez-latest.osrm\"  # OSRM path to the underlying map data\n",
    "rp_path = f\"data/{rp_name}.osm\""
   ],
   "metadata": {
    "collapsed": false,
    "pycharm": {
     "name": "#%%\n"
    }
   }
  },
  {
   "cell_type": "markdown",
   "source": [
    "## Routing problem <a id='routing_problem'></a>"
   ],
   "metadata": {
    "collapsed": false
   }
  },
  {
   "cell_type": "markdown",
   "source": [
    "Load routing problem and show it on the interactive map. Hover the cursor above lanelets to see additional information."
   ],
   "metadata": {
    "collapsed": false
   }
  },
  {
   "cell_type": "code",
   "execution_count": null,
   "outputs": [],
   "source": [
    "rp: RoutingProblem = create_routing_problem(rp_path)\n",
    "rp.visualize()"
   ],
   "metadata": {
    "collapsed": false,
    "pycharm": {
     "name": "#%%\n"
    }
   }
  },
  {
   "cell_type": "markdown",
   "source": [
    "Shorten lanelets for better visibility"
   ],
   "metadata": {
    "collapsed": false
   }
  },
  {
   "cell_type": "code",
   "execution_count": null,
   "outputs": [],
   "source": [
    "rp.shorten_lanelets()\n",
    "rp.visualize(zoom=14)"
   ],
   "metadata": {
    "collapsed": false,
    "pycharm": {
     "name": "#%%\n"
    }
   }
  },
  {
   "cell_type": "markdown",
   "source": [
    "## Lane-Level Topology Approach <a id='lane_level'></a>"
   ],
   "metadata": {
    "collapsed": false
   }
  },
  {
   "cell_type": "markdown",
   "source": [
    "Add lane-level topology by applying heuristics described in the thesis."
   ],
   "metadata": {
    "collapsed": false
   }
  },
  {
   "cell_type": "code",
   "execution_count": null,
   "outputs": [],
   "source": [
    "connections = []\n",
    "# First pass\n",
    "for segment in rp.segments:\n",
    "    for previous_segment in segment.previous_segments:\n",
    "        maneuver = rp.maneuvers[(previous_segment.id, segment.id)]\n",
    "        # Check if maneuver is left, right and/or merge\n",
    "        left = maneuver.modifier in [ManeuverModifier.Left, ManeuverModifier.SlightLeft,\n",
    "                                     ManeuverModifier.SharpLeft, ManeuverModifier.UTurn]\n",
    "        right = maneuver.modifier in [ManeuverModifier.Right, ManeuverModifier.SlightRight,\n",
    "                                      ManeuverModifier.SharpRight]\n",
    "        merge = maneuver.type == ManeuverType.Merge\n",
    "        # Left\n",
    "        if left and not merge or right and merge:\n",
    "            for i, lanelet in enumerate(segment.lanelets):\n",
    "                if i < len(previous_segment.lanelets):\n",
    "                    connections.append(LaneletConnection(previous_segment.lanelets[i],\n",
    "                                                         lanelet,\n",
    "                                                         maneuver))\n",
    "        # Right\n",
    "        elif right and not merge or left and merge:\n",
    "            for i, lanelet in enumerate(reversed(segment.lanelets)):\n",
    "                if i < len(previous_segment.lanelets):\n",
    "                    connections.append(LaneletConnection(previous_segment.lanelets[-(i + 1)],\n",
    "                                                         lanelet,\n",
    "                                                         maneuver))\n",
    "\n",
    "# Second pass\n",
    "for segment in rp.segments:\n",
    "    for previous_segment in segment.previous_segments:\n",
    "        maneuver = rp.maneuvers[(previous_segment.id, segment.id)]\n",
    "        # Skip straight maneuvers\n",
    "        if maneuver.modifier != ManeuverModifier.Straight:\n",
    "            continue\n",
    "\n",
    "        # Count free lanelets (lanelets without incoming connections)\n",
    "        lanelets_to = len(segment.lanelets)\n",
    "        lanelets_from = len(previous_segment.lanelets)\n",
    "        free_lanelets_to = list(filter(lambda x: not x.has_incoming_connection, segment.lanelets))\n",
    "        free_lanelets_from = list(filter(lambda x: not x.has_outgoing_connection, previous_segment.lanelets))\n",
    "        free_lanelets_to_count = len(free_lanelets_to)\n",
    "        free_lanelets_from_count = len(free_lanelets_from)\n",
    "\n",
    "        if lanelets_to == lanelets_from:\n",
    "            for i in range(lanelets_to):\n",
    "                connections.append(LaneletConnection(previous_segment.lanelets[i],\n",
    "                                                     segment.lanelets[i],\n",
    "                                                     maneuver))\n",
    "        elif free_lanelets_to_count == lanelets_from:\n",
    "            for i in range(free_lanelets_to_count):\n",
    "                connections.append(LaneletConnection(previous_segment.lanelets[i],\n",
    "                                                     free_lanelets_to[i],\n",
    "                                                     maneuver))\n",
    "        elif lanelets_to == free_lanelets_from_count:\n",
    "            for i in range(lanelets_to):\n",
    "                connections.append(LaneletConnection(free_lanelets_from[i],\n",
    "                                                     segment.lanelets[i],\n",
    "                                                     maneuver))\n",
    "        elif lanelets_to > free_lanelets_from_count:\n",
    "            for i in range(lanelets_to):\n",
    "                connections.append(LaneletConnection(free_lanelets_from[min(i, free_lanelets_from_count - 1)],\n",
    "                                                     segment.lanelets[i],\n",
    "                                                     maneuver))\n",
    "        elif lanelets_to < free_lanelets_from_count:\n",
    "            for i in range(free_lanelets_from_count):\n",
    "                connections.append(LaneletConnection(free_lanelets_from[i],\n",
    "                                                     segment.lanelets[min(i, lanelets_to - 1)],\n",
    "                                                     maneuver))\n",
    "\n",
    "# Convert stuff to geojson\n",
    "rp_json = rp.to_json()\n",
    "connections_json = [connection.to_json() for connection in connections]\n",
    "geojson = FeatureCollection(features=rp_json + connections_json)\n",
    "\n",
    "# Show everything on map\n",
    "color_breaks = [0, 1]\n",
    "color_stops = create_color_stops(color_breaks, colors=[\"#3ad21b\", \"#ff0505\"])\n",
    "viz = LinestringViz(data=geojson,\n",
    "                    color_property=\"type\",\n",
    "                    color_stops=color_stops,\n",
    "                    line_width_default='2',\n",
    "                    center=(9.092, 48.731),\n",
    "                    zoom=18,\n",
    "                    style=satellite_style)\n",
    "viz.show()"
   ],
   "metadata": {
    "collapsed": false,
    "pycharm": {
     "name": "#%%\n"
    }
   }
  },
  {
   "cell_type": "markdown",
   "source": [
    "Load RP's distance/duration matrix. If it doesn't exist, request it from Atlatec's OSRM fork."
   ],
   "metadata": {
    "collapsed": false
   }
  },
  {
   "cell_type": "code",
   "execution_count": null,
   "outputs": [],
   "source": [
    "matrix_path = f\"data/{rp_name}_matrix.json\"\n",
    "\n",
    "if os.path.exists(matrix_path):\n",
    "    with open(matrix_path) as f:\n",
    "        matrix = json.load(matrix_path)\n",
    "else:\n",
    "    sources = [int(segment.id) for segment in rp.segments]\n",
    "    destinations = sources\n",
    "    try:\n",
    "        durations_matrix = OSRMInterface.request_table(sources, destinations, rp_map_data)[1]\n",
    "    except Exception:\n",
    "        print(\"Couldn't get the durations matrix from OSRM.\")\n",
    "    else:\n",
    "        matrix = format_matrix(sources, destinations, durations_matrix)\n",
    "\n",
    "        with open(matrix_path, \"w\") as f:\n",
    "            json.dump(matrix, f)\n",
    "        print(f\"Dumped {len(matrix)} x {len(matrix)} durations matrix: {matrix_path}\")"
   ],
   "metadata": {
    "collapsed": false,
    "pycharm": {
     "name": "#%%\n"
    }
   }
  },
  {
   "cell_type": "code",
   "execution_count": null,
   "outputs": [],
   "source": [
    "# Create connections. First for left and right turns, then for forward.\n",
    "connections = []\n",
    "for segment in rp.segments:\n",
    "    for previous_segment in segment.previous_segments:\n",
    "        maneuver = rp.maneuvers[(previous_segment.id, segment.id)]\n",
    "        left = maneuver.modifier in [ManeuverModifier.Left, ManeuverModifier.SlightLeft,\n",
    "                                     ManeuverModifier.SharpLeft, ManeuverModifier.UTurn]\n",
    "        right = maneuver.modifier in [ManeuverModifier.Right, ManeuverModifier.SlightRight,\n",
    "                                      ManeuverModifier.SharpRight]\n",
    "        merge = maneuver.type == ManeuverType.Merge\n",
    "        # Left\n",
    "        if left and not merge or right and merge:\n",
    "            for i, lanelet in enumerate(segment.lanelets):\n",
    "                if i < len(previous_segment.lanelets):\n",
    "                    connections.append(LaneletConnection(previous_segment.lanelets[i],\n",
    "                                                         lanelet,\n",
    "                                                         maneuver))\n",
    "        # Right\n",
    "        elif right and not merge or left and merge:\n",
    "            for i, lanelet in enumerate(reversed(segment.lanelets)):\n",
    "                if i < len(previous_segment.lanelets):\n",
    "                    connections.append(LaneletConnection(previous_segment.lanelets[-(i + 1)],\n",
    "                                                         lanelet,\n",
    "                                                         maneuver))\n",
    "\n",
    "# Now connect straights\n",
    "for segment in rp.segments:\n",
    "    for previous_segment in segment.previous_segments:\n",
    "        maneuver = rp.maneuvers[(previous_segment.id, segment.id)]\n",
    "        if maneuver.modifier != ManeuverModifier.Straight:\n",
    "            continue\n",
    "\n",
    "        lanelets_to = len(segment.lanelets)\n",
    "        lanelets_from = len(previous_segment.lanelets)\n",
    "        free_lanelets_to = list(filter(lambda x: not x.has_incoming_connection, segment.lanelets))\n",
    "        free_lanelets_from = list(filter(lambda x: not x.has_outgoing_connection, previous_segment.lanelets))\n",
    "        free_lanelets_to_count = len(free_lanelets_to)\n",
    "        free_lanelets_from_count = len(free_lanelets_from)\n",
    "\n",
    "        if lanelets_to == lanelets_from:\n",
    "            for i in range(lanelets_to):\n",
    "                connections.append(LaneletConnection(previous_segment.lanelets[i],\n",
    "                                                     segment.lanelets[i],\n",
    "                                                     maneuver))\n",
    "        elif free_lanelets_to_count == lanelets_from:\n",
    "            for i in range(free_lanelets_to_count):\n",
    "                connections.append(LaneletConnection(previous_segment.lanelets[i],\n",
    "                                                     free_lanelets_to[i],\n",
    "                                                     maneuver))\n",
    "        elif lanelets_to == free_lanelets_from_count:\n",
    "            for i in range(lanelets_to):\n",
    "                connections.append(LaneletConnection(free_lanelets_from[i],\n",
    "                                                     segment.lanelets[i],\n",
    "                                                     maneuver))\n",
    "        elif lanelets_to > free_lanelets_from_count:\n",
    "            for i in range(lanelets_to):\n",
    "                connections.append(LaneletConnection(free_lanelets_from[min(i, free_lanelets_from_count - 1)],\n",
    "                                                     segment.lanelets[i],\n",
    "                                                     maneuver))\n",
    "        elif lanelets_to < free_lanelets_from_count:\n",
    "            for i in range(free_lanelets_from_count):\n",
    "                connections.append(LaneletConnection(free_lanelets_from[i],\n",
    "                                                     segment.lanelets[min(i, lanelets_to - 1)],\n",
    "                                                     maneuver))\n",
    "\n",
    "# Convert stuff to geojson\n",
    "rp_json = rp.to_json()\n",
    "connections_json = [connection.to_json() for connection in connections]\n",
    "geojson = FeatureCollection(features=rp_json + connections_json)\n",
    "\n",
    "# Show everything on map\n",
    "color_breaks = [0, 1]\n",
    "color_stops = create_color_stops(color_breaks, colors=[\"#3ad21b\", \"#ff0505\"])\n",
    "viz = LinestringViz(data=geojson,\n",
    "                    color_property=\"type\",\n",
    "                    color_stops=color_stops,\n",
    "                    line_width_default='2',\n",
    "                    center=(9.092, 48.731),\n",
    "                    zoom=18,\n",
    "                    style=satellite_style)\n",
    "viz.show()"
   ],
   "metadata": {
    "collapsed": false,
    "pycharm": {
     "name": "#%%\n"
    }
   }
  },
  {
   "cell_type": "markdown",
   "source": [
    "Solve Lane Topology TSP"
   ],
   "metadata": {
    "collapsed": false,
    "pycharm": {
     "name": "#%% md\n"
    }
   }
  },
  {
   "cell_type": "code",
   "execution_count": null,
   "outputs": [],
   "source": [
    "lanelet_connections = {(connection.lanelet_from, connection.lanelet_to) for connection in connections}\n",
    "optimiser = EBGOptimizer(nodes=[FirstLanelet()] + rp.lanelets + [LastLanelet()],\n",
    "                         matrix=matrix,\n",
    "                         local_search_metaheuristic=LocalSearchMetaheuristic.GUIDED_LOCAL_SEARCH,\n",
    "                         first_solution_strategy=FirstSolutionStrategy.AUTOMATIC,\n",
    "                         max_optimisation_duration=2,\n",
    "                         connections=lanelet_connections,\n",
    "                         check_topology=True)\n",
    "optimal_order, optimization_history = optimiser.optimize()\n",
    "print(f\"Optimisation history: {optimization_history}\")"
   ],
   "metadata": {
    "collapsed": false,
    "pycharm": {
     "name": "#%%\n"
    }
   }
  },
  {
   "cell_type": "markdown",
   "source": [
    "Display the route"
   ],
   "metadata": {
    "collapsed": false,
    "pycharm": {
     "name": "#%% md\n"
    }
   }
  },
  {
   "cell_type": "code",
   "execution_count": null,
   "outputs": [],
   "source": [
    "route_connections = []\n",
    "previous_connection: Optional[Lanelet] = None\n",
    "for lanelet in optimal_order[1:-1]:\n",
    "    if previous_connection is not None:\n",
    "        cost = previous_connection.get_cost_to(lanelet,\n",
    "                                               matrix,\n",
    "                                               lanelet_connections)\n",
    "        # if cost < 20:\n",
    "        route_connections.append(RouteConnection(previous_connection,\n",
    "                                                 lanelet,\n",
    "                                                 cost,\n",
    "                                                 1))\n",
    "    previous_connection = lanelet\n",
    "\n",
    "# Convert stuff to geojson\n",
    "rp_json = rp.to_json()\n",
    "connections_json = [connection.to_json() for connection in route_connections]\n",
    "geojson = FeatureCollection(features=rp_json + connections_json)\n",
    "\n",
    "# Show everything on map\n",
    "color_breaks = [0, 1]\n",
    "color_stops = create_color_stops(color_breaks, colors=[\"#3ad21b\", \"#ff0505\"])\n",
    "viz = LinestringViz(data=geojson,\n",
    "                    color_property=\"type\",\n",
    "                    color_stops=color_stops,\n",
    "                    line_width_default='2',\n",
    "                    center=(9.092, 48.731),\n",
    "                    zoom=18,\n",
    "                    style=satellite_style)\n",
    "viz.show()"
   ],
   "metadata": {
    "collapsed": false,
    "pycharm": {
     "name": "#%%\n"
    }
   }
  },
  {
   "cell_type": "markdown",
   "source": [
    "## X-Graph approach <a id='x_graph'></a>"
   ],
   "metadata": {
    "collapsed": false,
    "pycharm": {
     "name": "#%% md\n"
    }
   }
  },
  {
   "cell_type": "markdown",
   "source": [
    "Create X-Graph from routing problem"
   ],
   "metadata": {
    "collapsed": false
   }
  },
  {
   "cell_type": "code",
   "execution_count": null,
   "outputs": [],
   "source": [
    "x_nodes: List[XGraphNode] = [FirstXGraphNode()]\n",
    "disjunctions: List[List[int]] = []\n",
    "\n",
    "for lanelet_to in rp.lanelets:\n",
    "    disjunctions.append([])\n",
    "    segment_to = lanelet_to.segment\n",
    "\n",
    "    for lanelet_from in rp.lanelets:\n",
    "        segment_from = lanelet_from.segment\n",
    "\n",
    "        if (segment_from.id, segment_to.id) in rp.maneuvers:\n",
    "            maneuver = rp.maneuvers[(segment_from.id, segment_to.id)]\n",
    "\n",
    "            x_nodes.append(XGraphNode(lanelet_from=lanelet_from,\n",
    "                                      lanelet_to=lanelet_to,\n",
    "                                      maneuver=maneuver))\n",
    "            disjunctions[-1].append(len(x_nodes) - 1)\n",
    "\n",
    "    # If there are no incoming maneuvers to the passlet (lanelet is a passlet i X-Graph context),\n",
    "    # create a SelfXGraphNode to include the passlet in the routing result. SelfXGraphNode represents\n",
    "    # a passlet instead of a maneuver.\n",
    "    if len(disjunctions[-1]) == 0:\n",
    "        disjunctions = disjunctions[:-1]\n",
    "        x_nodes.append(SelfXGraphNode(lanelet_to))\n",
    "\n",
    "x_nodes.append(LastXGraphNode())"
   ],
   "metadata": {
    "collapsed": false,
    "pycharm": {
     "name": "#%%\n"
    }
   }
  },
  {
   "cell_type": "markdown",
   "source": [
    "Count number of nodes in different RP representations and other stats."
   ],
   "metadata": {
    "collapsed": false,
    "pycharm": {
     "name": "#%% md\n"
    }
   }
  },
  {
   "cell_type": "code",
   "execution_count": null,
   "outputs": [],
   "source": [
    "print(f\"Number of nodes in NBG: {rp.nbg_nodes_number}\")\n",
    "print(f\"Number of nodes in EBG (our definition with lanelets as nodes): {len(rp.lanelets)}\")\n",
    "print(f\"Number of nodes in X-Graph: {len(x_nodes)}\")\n",
    "print(f\"Number of disjunctions: {len(disjunctions)}\")\n",
    "print(f\"Number of segments: {len(rp.segments)}\")\n",
    "print(f\"Average branching factor (ABF): {round(rp.average_branching_factor, 2)}\")"
   ],
   "metadata": {
    "collapsed": false,
    "pycharm": {
     "name": "#%%\n"
    }
   }
  },
  {
   "cell_type": "markdown",
   "source": [
    "Compare average branching factor for different RP scenarios."
   ],
   "metadata": {
    "collapsed": false,
    "pycharm": {
     "name": "#%% md\n"
    }
   }
  },
  {
   "cell_type": "code",
   "execution_count": null,
   "outputs": [],
   "source": [
    "rp_highway = create_routing_problem(\"data/highway.osm\")\n",
    "rp_mixed = create_routing_problem(\"data/mixed.osm\")\n",
    "rp_urban = create_routing_problem(\"data/urban.osm\")\n",
    "\n",
    "fig = plt.figure()\n",
    "ax = fig.add_axes([0, 0, 1, 1])\n",
    "scenarios = [\"Highway\", \"Mixed\", \"Urban\"]\n",
    "ys = [rp_highway.average_branching_factor, rp_mixed.average_branching_factor, rp_urban.average_branching_factor]\n",
    "ax.bar(scenarios, ys, color=[\"#3ad21b\", \"#055AFF\", \"#FA05FF\"])\n",
    "ax.set_ylabel('average branching factor')\n",
    "ax.set_xlabel('scenario type')\n",
    "plt.savefig(\"exports/abf.png\", bbox_inches='tight', dpi=400)\n",
    "plt.show()"
   ],
   "metadata": {
    "collapsed": false,
    "pycharm": {
     "name": "#%%\n"
    }
   }
  },
  {
   "cell_type": "markdown",
   "source": [
    "Compare different local search metaheuristics"
   ],
   "metadata": {
    "collapsed": false
   }
  },
  {
   "cell_type": "code",
   "execution_count": null,
   "outputs": [],
   "source": [
    "heuristics = [LocalSearchMetaheuristic.GREEDY_DESCENT, LocalSearchMetaheuristic.GUIDED_LOCAL_SEARCH,\n",
    "              LocalSearchMetaheuristic.SIMULATED_ANNEALING, LocalSearchMetaheuristic.TABU_SEARCH]\n",
    "batch = []\n",
    "for heuristic in heuristics:\n",
    "    batch.append((EBGOptimizer(nodes=rp.lanelets,\n",
    "                               matrix=matrix,\n",
    "                               local_search_metaheuristic=heuristic,\n",
    "                               first_solution_strategy=FirstSolutionStrategy.AUTOMATIC,\n",
    "                               max_optimisation_duration=600,\n",
    "                               check_topology=False).optimize, tuple()))\n",
    "return_dict = batch_run(batch)\n",
    "\n",
    "fig = plt.figure()\n",
    "ax = fig.add_axes([0, 0, 1, 1])\n",
    "heuristics = [\"Greedy Descent\", \"Guided Local Search\", \"Simulated Annealing\", \"Tabu Search\"]\n",
    "ys = [return_dict[i][\"history\"].values()[-1] for i in range(len(heuristics))]\n",
    "ax.bar(heuristics, ys, color=[\"#3ad21b\", \"#055AFF\", \"#FA05FF\", \"#FFE605\"])\n",
    "plt.xticks(rotation=15)\n",
    "ax.set_ylabel('optimization result (s)')\n",
    "ax.set_xlabel('local search strategy')\n",
    "plt.savefig(\"exports/lss.png\", bbox_inches='tight', dpi=400)\n",
    "plt.show()"
   ],
   "metadata": {
    "collapsed": false,
    "pycharm": {
     "name": "#%%\n"
    }
   }
  },
  {
   "cell_type": "code",
   "execution_count": null,
   "outputs": [],
   "source": [
    "fig = plt.figure()\n",
    "ax = plt.axes()\n",
    "ax.set_ylabel('optimization result (s)')\n",
    "ax.set_xlabel('time (s)')\n",
    "colors = [\"#3ad21b\", \"#055AFF\", \"#FA05FF\", \"#FFE605\"]\n",
    "\n",
    "for i in range(len(heuristics)):\n",
    "    xs = [float(x) for x in return_dict[i][\"history\"].keys()]\n",
    "    ys = list(return_dict[i][\"history\"].values())\n",
    "\n",
    "    ax.plot(xs, ys, label=heuristics[i], color=colors[i])\n",
    "\n",
    "plt.legend()\n",
    "plt.savefig(\"exports/lss_comparison.png\", bbox_inches='tight', dpi=400)\n",
    "plt.show()"
   ],
   "metadata": {
    "collapsed": false,
    "pycharm": {
     "name": "#%%\n"
    }
   }
  },
  {
   "cell_type": "code",
   "execution_count": null,
   "outputs": [],
   "source": [
    "batch = [(EBGOptimizer(nodes=rp.lanelets,\n",
    "                       matrix=matrix,\n",
    "                       local_search_metaheuristic=LocalSearchMetaheuristic.GUIDED_LOCAL_SEARCH,\n",
    "                       first_solution_strategy=FirstSolutionStrategy.PARALLEL_CHEAPEST_INSERTION,\n",
    "                       max_optimisation_duration=600,\n",
    "                       check_topology=False).optimize, tuple()),\n",
    "         (EBGOptimizer(nodes=rp.lanelets,\n",
    "                       matrix=matrix,\n",
    "                       local_search_metaheuristic=LocalSearchMetaheuristic.GUIDED_LOCAL_SEARCH,\n",
    "                       first_solution_strategy=FirstSolutionStrategy.PARALLEL_CHEAPEST_INSERTION,\n",
    "                       max_optimisation_duration=600,\n",
    "                       check_topology=True,\n",
    "                       connections=connections).optimize, tuple()),\n",
    "         (XGraphOptimizer(nodes=x_nodes,\n",
    "                          matrix=matrix,\n",
    "                          disjunctions=disjunctions,\n",
    "                          local_search_metaheuristic=LocalSearchMetaheuristic.GUIDED_LOCAL_SEARCH,\n",
    "                          first_solution_strategy=FirstSolutionStrategy.PARALLEL_CHEAPEST_INSERTION,\n",
    "                          max_optimisation_duration=600,\n",
    "                          straight_non_straight_maneuver_penalty=120,\n",
    "                          non_straight_straight_maneuver_penalty=0).optimize, tuple()),\n",
    "         (XGraphOptimizer(nodes=x_nodes,\n",
    "                          matrix=matrix,\n",
    "                          disjunctions=[],\n",
    "                          local_search_metaheuristic=LocalSearchMetaheuristic.GUIDED_LOCAL_SEARCH,\n",
    "                          first_solution_strategy=FirstSolutionStrategy.PARALLEL_CHEAPEST_INSERTION,\n",
    "                          max_optimisation_duration=600,\n",
    "                          straight_non_straight_maneuver_penalty=120,\n",
    "                          non_straight_straight_maneuver_penalty=0).optimize, tuple()),\n",
    "         ]\n",
    "\n",
    "return_dict = batch_run(batch, measure_resources=True)\n",
    "\n",
    "fig = plt.figure()\n",
    "ax = plt.axes()\n",
    "ax.set_ylabel('optimization result (% of initial solution)')\n",
    "ax.set_xlabel('time (s)')\n",
    "\n",
    "approaches = [\"Current AtlaRoute approach\", \"Lane topology\", \"X-Graph\", \"X-Graph w/o disjunctions\"]\n",
    "colors = [\"#3ad21b\", \"#055AFF\", \"#FA05FF\", \"#FFE605\"]\n",
    "for i, approach in enumerate(approaches):\n",
    "    xs = [float(x) for x in return_dict[i]['history'].keys()]\n",
    "    ys = list(return_dict[i]['history'].values())\n",
    "    max_y = max(ys)\n",
    "    ys = [(y / max_y) * 100 for y in ys]\n",
    "\n",
    "    ax.plot(xs, ys, label=approach, color=colors[i])\n",
    "\n",
    "ax.legend(loc=\"center left\", bbox_to_anchor=(0.45, 0.25))\n",
    "plt.savefig(\"exports/approaches_comparison.png\", bbox_inches='tight', dpi=400)\n",
    "plt.show()"
   ],
   "metadata": {
    "collapsed": false,
    "pycharm": {
     "name": "#%%\n"
    }
   }
  },
  {
   "cell_type": "code",
   "execution_count": null,
   "outputs": [],
   "source": [
    "fig = plt.figure()\n",
    "ax = plt.axes()\n",
    "ax.set_ylabel('memory usage (MB)')\n",
    "ax.set_xlabel('time (s)')\n",
    "\n",
    "for i, approach in enumerate(approaches):\n",
    "    memory = return_dict[i]['memory'][:600]\n",
    "    xs = [i for i in range(len(memory))]\n",
    "    ys = memory\n",
    "    ax.plot(xs, ys, label=approaches[i], color=colors[i])\n",
    "\n",
    "plt.legend()\n",
    "plt.savefig(\"exports/memory_usage.png\", bbox_inches='tight', dpi=400)\n",
    "plt.show()"
   ],
   "metadata": {
    "collapsed": false,
    "pycharm": {
     "name": "#%%\n"
    }
   }
  },
  {
   "cell_type": "code",
   "execution_count": null,
   "outputs": [],
   "source": [
    "strategies = [FirstSolutionStrategy.AUTOMATIC,\n",
    "              FirstSolutionStrategy.PATH_CHEAPEST_ARC,\n",
    "              FirstSolutionStrategy.CHRISTOFIDES,\n",
    "              FirstSolutionStrategy.PARALLEL_CHEAPEST_INSERTION,\n",
    "              FirstSolutionStrategy.SAVINGS,\n",
    "              FirstSolutionStrategy.LOCAL_CHEAPEST_INSERTION,\n",
    "              FirstSolutionStrategy.FIRST_UNBOUND_MIN_VALUE,\n",
    "              FirstSolutionStrategy.LOCAL_CHEAPEST_ARC,\n",
    "              FirstSolutionStrategy.ALL_UNPERFORMED]\n",
    "batch = []\n",
    "for strategy in strategies:\n",
    "    batch.append((EBGOptimizer(nodes=rp.lanelets,\n",
    "                               matrix=matrix,\n",
    "                               local_search_metaheuristic=LocalSearchMetaheuristic.GUIDED_LOCAL_SEARCH,\n",
    "                               first_solution_strategy=FirstSolutionStrategy.AUTOMATIC,\n",
    "                               max_optimisation_duration=600,\n",
    "                               check_topology=False).optimize, tuple()))\n",
    "return_dict = batch_run(batch)\n",
    "\n",
    "strategies = [\"automatic\",\n",
    "              \"path cheapest arc\",\n",
    "              \"christofides\",\n",
    "              \"parallel cheapest insertion\",\n",
    "              \"savings\",\n",
    "              \"local cheapest insertion\",\n",
    "              \"first unbound min value\",\n",
    "              \"first unbound min value\",\n",
    "              \"local cheapest arc\",\n",
    "              \"all unperformed\"]\n",
    "# Create xml\n",
    "s = \"first solution strategy,performance,duration\\n\"\n",
    "for i in range(len(strategies)):\n",
    "    s.append(f\"{strategies[i]},{return_dict[i]['history'].values()[0]},{return_dict[i]['history'].keys()[0]}\\n\")\n",
    "s = StringIO(s)\n",
    "\n",
    "# Display xml with Pandas\n",
    "df = pd.read_csv(s, index_col=0, delimiter=',', skipinitialspace=True)\n",
    "\n",
    "fig = plt.figure()  # Create matplotlib figure\n",
    "ax = fig.add_subplot(111)  # Create matplotlib axes\n",
    "ax2 = ax.twinx()  # Create another axes that shares the same x-axis as ax.\n",
    "width = 0.4\n",
    "\n",
    "df.performance.plot(kind='bar', color='#3ad21b', ax=ax, width=width, position=1)\n",
    "df.duration.plot(kind='bar', color='#055AFF', ax=ax2, width=width, position=0)\n",
    "\n",
    "ax.set_ylabel('first solution performance (s)')\n",
    "ax.yaxis.label.set_color('#3ad21b')\n",
    "ax2.set_ylabel('runtime (s)')\n",
    "ax2.yaxis.label.set_color('#055AFF')\n",
    "\n",
    "plt.savefig(\"exports/fss.png\", bbox_inches='tight', dpi=400)\n",
    "plt.show()"
   ],
   "metadata": {
    "collapsed": false,
    "pycharm": {
     "name": "#%%\n"
    }
   }
  },
  {
   "cell_type": "code",
   "execution_count": null,
   "outputs": [],
   "source": [
    "cut_x_graph_order = order_x_graph[1:-1]\n",
    "lanelets_order = []\n",
    "\n",
    "for maneuver in cut_x_graph_order:\n",
    "    lanelets_order.append(maneuver.lanelet_from)\n",
    "    lanelets_order.append(maneuver.lanelet_to)\n",
    "\n",
    "shortened_x_graph_order = []\n",
    "for lanelet in lanelets_order:\n",
    "    if len(shortened_x_graph_order) > 0 and shortened_x_graph_order[-1].segment.id == lanelet.segment.id:\n",
    "        continue\n",
    "    shortened_x_graph_order.append(lanelet)"
   ],
   "metadata": {
    "collapsed": false,
    "pycharm": {
     "name": "#%%\n"
    }
   }
  },
  {
   "cell_type": "code",
   "execution_count": null,
   "outputs": [],
   "source": [
    "segments = [lanelet.segment for lanelet in order_normal[1:-1]]\n",
    "route = OSRMInterface.request_route(segments, \"Stuttgart/stuttgart-regbez-latest.osrm\")\n",
    "print(f\"Duration: {route['original_route']['routes'][0]['duration']} s\")\n",
    "print(f\"Distance: {route['original_route']['routes'][0]['distance']} m\")"
   ],
   "metadata": {
    "collapsed": false,
    "pycharm": {
     "name": "#%%\n"
    }
   }
  },
  {
   "cell_type": "code",
   "execution_count": null,
   "outputs": [],
   "source": [
    "s = StringIO(\n",
    "    \"\"\"\n",
    "    approach,distance,duration\n",
    "    current,27065.3,1813.6\n",
    "    lane topology,38827.4,2713.5\n",
    "    X-Graph,39663.8,2783.0\n",
    "    \"\"\")\n",
    "\n",
    "df = pd.read_csv(s, index_col=0, delimiter=',', skipinitialspace=True)\n",
    "\n",
    "fig = plt.figure()  # Create matplotlib figure\n",
    "\n",
    "ax = fig.add_subplot(111)  # Create matplotlib axes\n",
    "ax2 = ax.twinx()  # Create another axes that shares the same x-axis as ax.\n",
    "\n",
    "width = 0.4\n",
    "\n",
    "df.distance.plot(kind='bar', color='#3ad21b', ax=ax, width=width, position=1, rot=0)\n",
    "df.duration.plot(kind='bar', color='#055AFF', ax=ax2, width=width, position=0)\n",
    "\n",
    "ax.set_ylabel('distance (m)')\n",
    "ax.yaxis.label.set_color('#3ad21b')\n",
    "ax2.set_ylabel('duration (s)')\n",
    "ax2.yaxis.label.set_color('#055AFF')\n",
    "\n",
    "plt.savefig(\"/Users/nitrotube/Desktop/durations.png\", bbox_inches='tight', dpi=400)\n",
    "plt.show()"
   ],
   "metadata": {
    "collapsed": false,
    "pycharm": {
     "name": "#%%\n"
    }
   }
  },
  {
   "cell_type": "markdown",
   "source": [
    "Calculate average straight length (ASL)"
   ],
   "metadata": {
    "collapsed": false,
    "pycharm": {
     "name": "#%% md\n"
    }
   }
  },
  {
   "cell_type": "code",
   "execution_count": null,
   "outputs": [],
   "source": [
    "# order = order_lane[1:-1]\n",
    "order = order_normal[1:-1]\n",
    "# order = shortened_x_graph_order\n",
    "\n",
    "straights = []\n",
    "previous_lanelet = None\n",
    "current_straight = 0\n",
    "\n",
    "for lanelet in order:\n",
    "    if previous_lanelet is None:\n",
    "        previous_lanelet = lanelet\n",
    "        continue\n",
    "\n",
    "    if (previous_lanelet.segment.id, lanelet.segment.id) in rp.maneuvers:\n",
    "        maneuver = rp.maneuvers[(previous_lanelet.segment.id, lanelet.segment.id)]\n",
    "\n",
    "        if maneuver.modifier == ManeuverModifier.Straight:\n",
    "            if current_straight == 0:\n",
    "                current_straight = previous_lanelet.segment.get_length() + lanelet.segment.get_length()\n",
    "            else:\n",
    "                current_straight += lanelet.get_length()\n",
    "        else:\n",
    "            if current_straight > 0:\n",
    "                straights.append(current_straight)\n",
    "                current_straight = 0\n",
    "    elif current_straight > 0:\n",
    "        straights.append(current_straight)\n",
    "        current_straight = 0\n",
    "\n",
    "    previous_lanelet = lanelet\n",
    "\n",
    "if current_straight > 0:\n",
    "    straights.append(current_straight)\n",
    "\n",
    "average_straight_length = sum(straights) / len(straights)\n",
    "print(f\"Average straight length: {average_straight_length}\")\n",
    "print(len(list(filter(lambda x: x < 150, straights))))"
   ],
   "metadata": {
    "collapsed": false,
    "pycharm": {
     "name": "#%%\n"
    }
   }
  },
  {
   "cell_type": "code",
   "execution_count": null,
   "outputs": [],
   "source": [
    "x = [i for i in range(len(straights))]\n",
    "y = straights\n",
    "\n",
    "ax = plt.axes()\n",
    "ax.tick_params(\n",
    "    axis='x',\n",
    "    which='both',\n",
    "    bottom=False,\n",
    "    top=False,\n",
    "    labelbottom=False)\n",
    "ax.set_ylabel('length (m)')\n",
    "ax.set_xlabel('strings')\n",
    "\n",
    "plt.scatter(x, y, color=\"#FA05FF\")\n",
    "plt.savefig(\"/Users/nitrotube/Desktop/strings_x.png\", bbox_inches='tight', dpi=400)\n",
    "plt.show()"
   ],
   "metadata": {
    "collapsed": false,
    "pycharm": {
     "name": "#%%\n"
    }
   }
  },
  {
   "cell_type": "code",
   "execution_count": null,
   "outputs": [],
   "source": [
    "fig = plt.figure()\n",
    "ax = fig.add_axes([0, 0, 1, 1])\n",
    "x_labels = [\"<150\", \"<500\", \">500\"]\n",
    "ys = [3273, 1990, 3056]\n",
    "\n",
    "# add proper binning\n",
    "ax.bar(x_labels, ys, color=[\"#3ad21b\", \"#055AFF\", \"#FA05FF\", \"#FFE605\"])\n",
    "plt.xticks(rotation=15)\n",
    "ax.set_ylabel('number of strings')\n",
    "ax.set_xlabel('strings length (m)')\n",
    "plt.savefig(\"/Users/nitrotube/Desktop/lss.png\", bbox_inches='tight', dpi=400)\n",
    "plt.show()"
   ],
   "metadata": {
    "collapsed": false,
    "pycharm": {
     "name": "#%%\n"
    }
   }
  },
  {
   "cell_type": "code",
   "execution_count": null,
   "outputs": [],
   "source": [
    "fig = plt.figure()\n",
    "ax = fig.add_axes([0, 0, 1, 1])\n",
    "heuristics = [\"current\", \"lane topology\", \"X-Graph\"]\n",
    "ys = [340, 531, 571.6]\n",
    "ax.bar(heuristics, ys, color=[\"#3ad21b\", \"#055AFF\", \"#FA05FF\"])\n",
    "ax.set_ylabel('average straight length (s)')\n",
    "ax.set_xlabel('approach')\n",
    "plt.savefig(\"/Users/nitrotube/Desktop/asl.png\", bbox_inches='tight', dpi=400)\n",
    "plt.show()"
   ],
   "metadata": {
    "collapsed": false,
    "pycharm": {
     "name": "#%%\n"
    }
   }
  },
  {
   "cell_type": "code",
   "execution_count": null,
   "outputs": [],
   "source": [
    "optimiser = XGraphOptimizer(nodes=x_nodes,\n",
    "                            disjunctions=disjunctions,\n",
    "                            matrix=matrix,\n",
    "                            local_search_metaheuristic=LocalSearchMetaheuristic.GUIDED_LOCAL_SEARCH,\n",
    "                            first_solution_strategy=FirstSolutionStrategy.PARALLEL_CHEAPEST_INSERTION,\n",
    "                            max_optimisation_duration=400,\n",
    "                            straight_non_straight_maneuver_penalty=120,\n",
    "                            non_straight_straight_maneuver_penalty=0)\n",
    "optimal_order, optimization_history = optimiser.optimise()\n",
    "print(f\"Optimisation history: {optimization_history}\")\n",
    "optimal_order = optimal_order[1:-1]"
   ],
   "metadata": {
    "collapsed": false,
    "pycharm": {
     "name": "#%%\n"
    }
   }
  },
  {
   "cell_type": "markdown",
   "source": [
    "Show X-Graph route on map"
   ],
   "metadata": {
    "collapsed": false,
    "pycharm": {
     "name": "#%% md\n"
    }
   }
  },
  {
   "cell_type": "code",
   "execution_count": null,
   "outputs": [],
   "source": [
    "route_connections = []\n",
    "\n",
    "for connection in optimal_order:\n",
    "    route_connections.append(RouteConnection(connection.lanelet_from,\n",
    "                                             connection.lanelet_to,\n",
    "                                             0,\n",
    "                                             2))\n",
    "\n",
    "# Convert stuff to geojson\n",
    "rp_json = rp.to_json()\n",
    "connections_json = [connection.to_json() for connection in route_connections]\n",
    "geojson = FeatureCollection(features=rp_json + connections_json)\n",
    "\n",
    "# Show everything on map\n",
    "color_breaks = [0, 1, 2]\n",
    "color_stops = create_color_stops(color_breaks, colors=[\"#3ad21b\", \"#ff0505\", \"#d742f5\"])\n",
    "viz = LinestringViz(data=geojson,\n",
    "                    color_property=\"type\",\n",
    "                    color_stops=color_stops,\n",
    "                    line_width_default='2',\n",
    "                    center=(9.092, 48.731),\n",
    "                    zoom=18,\n",
    "                    style=satellite_style)\n",
    "viz.show()"
   ],
   "metadata": {
    "collapsed": false,
    "pycharm": {
     "name": "#%%\n"
    }
   }
  }
 ],
 "metadata": {
  "kernelspec": {
   "display_name": "Python 3 (ipykernel)",
   "language": "python",
   "name": "python3"
  },
  "language_info": {
   "codemirror_mode": {
    "name": "ipython",
    "version": 3
   },
   "file_extension": ".py",
   "mimetype": "text/x-python",
   "name": "python",
   "nbconvert_exporter": "python",
   "pygments_lexer": "ipython3",
   "version": "3.9.5"
  }
 },
 "nbformat": 4,
 "nbformat_minor": 5
}